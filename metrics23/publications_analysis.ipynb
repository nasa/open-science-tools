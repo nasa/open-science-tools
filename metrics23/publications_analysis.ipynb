{
 "cells": [
  {
   "cell_type": "code",
   "execution_count": 1,
   "id": "ede89d28",
   "metadata": {},
   "outputs": [],
   "source": [
    "#import some useful stuff\n",
    "import numpy as np\n",
    "import pandas as pd\n",
    "import matplotlib.pyplot as plt\n",
    "%matplotlib inline\n",
    "import os\n",
    "from pathlib import Path"
   ]
  },
  {
   "cell_type": "markdown",
   "id": "becadbe0",
   "metadata": {},
   "source": [
    "# Analysis of the open availability of NASA publications\n",
    "\n",
    "Determine the number of publicatins being produced by NASA by querying two different resources\n",
    "\n",
    "See Michelson, R, Paseka, R, Crawford, S. 2024. Monitoring Implementation of the NASA Science Mission Directorate Scientific Information Policy for NASA’s Research Opportunities for Earth and Space Science. OSF Registries. https://doi.org/10.17605/OSF.IO/43U8W "
   ]
  },
  {
   "cell_type": "code",
   "execution_count": 2,
   "id": "1ff01c5d",
   "metadata": {},
   "outputs": [],
   "source": [
    "#read in the full CHORUS dataset - this file is downloaded from https://dashboard.chorusaccess.org/nasa#/summary\n",
    "mydir = \"./\"\n",
    "myfile = \"all_chorus.csv\"\n",
    "fileloc = Path(mydir + myfile)\n",
    "full_chorus = pd.read_csv(fileloc)"
   ]
  },
  {
   "cell_type": "code",
   "execution_count": 3,
   "id": "951dd05e",
   "metadata": {},
   "outputs": [
    {
     "name": "stdout",
     "output_type": "stream",
     "text": [
      "<class 'pandas.core.frame.DataFrame'>\n",
      "RangeIndex: 51817 entries, 0 to 51816\n",
      "Data columns (total 26 columns):\n",
      " #   Column                                 Non-Null Count  Dtype \n",
      "---  ------                                 --------------  ----- \n",
      " 0   DOI                                    51817 non-null  object\n",
      " 1   Publisher                              51817 non-null  object\n",
      " 2   Funders                                51793 non-null  object\n",
      " 3   Funder Id                              51793 non-null  object\n",
      " 4   RoRID (Funder)                         51222 non-null  object\n",
      " 5   Author(s)                              51805 non-null  object\n",
      " 6   Article Title                          51817 non-null  object\n",
      " 7   Journal Name                           50046 non-null  object\n",
      " 8   Online Publication Date                36384 non-null  object\n",
      " 9   Print Publication Date                 43112 non-null  object\n",
      " 10  Last Audited On                        38790 non-null  object\n",
      " 11  Publicly Accessible On Publisher Site  24318 non-null  object\n",
      " 12  License Type                           32564 non-null  object\n",
      " 13  License URL                            32564 non-null  object\n",
      " 14  Reuse License Start Date               32564 non-null  object\n",
      " 15  Agency Portal URL                      6525 non-null   object\n",
      " 16  Type                                   51817 non-null  object\n",
      " 17  Added                                  51759 non-null  object\n",
      " 18  Updated                                50458 non-null  object\n",
      " 19  ORCID                                  14715 non-null  object\n",
      " 20  Grant ID                               43339 non-null  object\n",
      " 21  Archived                               51817 non-null  object\n",
      " 22  Datasets                               3306 non-null   object\n",
      " 23  CHORUS Verified OA                     51817 non-null  object\n",
      " 24  Audit Source                           37385 non-null  object\n",
      " 25  Funder Source                          51817 non-null  object\n",
      "dtypes: object(26)\n",
      "memory usage: 10.3+ MB\n"
     ]
    }
   ],
   "source": [
    "#take a quick look at the dataframe, see if that worked\n",
    "full_chorus.info()"
   ]
  },
  {
   "cell_type": "code",
   "execution_count": 4,
   "id": "764c15a4",
   "metadata": {
    "scrolled": true
   },
   "outputs": [
    {
     "name": "stderr",
     "output_type": "stream",
     "text": [
      "/var/folders/cl/k6ljw4bx7bn7qw3pxh7tzks40000gp/T/ipykernel_31792/4174358415.py:2: UserWarning: Could not infer format, so each element will be parsed individually, falling back to `dateutil`. To ensure parsing is consistent and as-expected, please specify a format.\n",
      "  full_chorus[\"Print Publication Date\"] = pd.to_datetime(full_chorus[\"Print Publication Date\"])\n"
     ]
    }
   ],
   "source": [
    "#make the pub dates into datetime objects\n",
    "full_chorus[\"Print Publication Date\"] = pd.to_datetime(full_chorus[\"Print Publication Date\"])\n",
    "#give the date column a shorter name for ease of calling\n",
    "date_column = full_chorus[\"Print Publication Date\"]"
   ]
  },
  {
   "cell_type": "code",
   "execution_count": 5,
   "id": "0099694a-7c8f-4719-b8c3-95082a46ff3e",
   "metadata": {},
   "outputs": [],
   "source": [
    "pubs_2023 = full_chorus[full_chorus['Print Publication Date'].dt.year == 2023]"
   ]
  },
  {
   "cell_type": "code",
   "execution_count": 6,
   "id": "daf629bd-dc09-41b3-888a-a2f596797b42",
   "metadata": {},
   "outputs": [],
   "source": [
    "# limit to only journal articles\n",
    "pubs_2023 = pubs_2023[pubs_2023[\"Type\"]==\"journal-article\"] "
   ]
  },
  {
   "cell_type": "markdown",
   "id": "32551709",
   "metadata": {},
   "source": [
    "## Analyze 2023 Data Set"
   ]
  },
  {
   "cell_type": "code",
   "execution_count": 7,
   "id": "eb9c483b-8746-4011-8830-8f96a749ac1a",
   "metadata": {},
   "outputs": [
    {
     "name": "stdout",
     "output_type": "stream",
     "text": [
      "4710\n"
     ]
    }
   ],
   "source": [
    "total = len(pubs_2023)\n",
    "print(total)"
   ]
  },
  {
   "cell_type": "code",
   "execution_count": 8,
   "id": "289f66b9-39a0-4040-bea9-97879c850177",
   "metadata": {},
   "outputs": [
    {
     "name": "stdout",
     "output_type": "stream",
     "text": [
      "<class 'pandas.core.frame.DataFrame'>\n",
      "Index: 4710 entries, 0 to 51792\n",
      "Data columns (total 26 columns):\n",
      " #   Column                                 Non-Null Count  Dtype         \n",
      "---  ------                                 --------------  -----         \n",
      " 0   DOI                                    4710 non-null   object        \n",
      " 1   Publisher                              4710 non-null   object        \n",
      " 2   Funders                                4710 non-null   object        \n",
      " 3   Funder Id                              4710 non-null   object        \n",
      " 4   RoRID (Funder)                         4676 non-null   object        \n",
      " 5   Author(s)                              4710 non-null   object        \n",
      " 6   Article Title                          4710 non-null   object        \n",
      " 7   Journal Name                           4710 non-null   object        \n",
      " 8   Online Publication Date                3557 non-null   object        \n",
      " 9   Print Publication Date                 4710 non-null   datetime64[ns]\n",
      " 10  Last Audited On                        3978 non-null   object        \n",
      " 11  Publicly Accessible On Publisher Site  2233 non-null   object        \n",
      " 12  License Type                           3847 non-null   object        \n",
      " 13  License URL                            3847 non-null   object        \n",
      " 14  Reuse License Start Date               3847 non-null   object        \n",
      " 15  Agency Portal URL                      242 non-null    object        \n",
      " 16  Type                                   4710 non-null   object        \n",
      " 17  Added                                  4710 non-null   object        \n",
      " 18  Updated                                4681 non-null   object        \n",
      " 19  ORCID                                  0 non-null      object        \n",
      " 20  Grant ID                               4145 non-null   object        \n",
      " 21  Archived                               4710 non-null   object        \n",
      " 22  Datasets                               51 non-null     object        \n",
      " 23  CHORUS Verified OA                     4710 non-null   object        \n",
      " 24  Audit Source                           3925 non-null   object        \n",
      " 25  Funder Source                          4710 non-null   object        \n",
      "dtypes: datetime64[ns](1), object(25)\n",
      "memory usage: 993.5+ KB\n"
     ]
    }
   ],
   "source": [
    "pubs_2023.info()"
   ]
  },
  {
   "cell_type": "code",
   "execution_count": 9,
   "id": "042346e7",
   "metadata": {},
   "outputs": [
    {
     "name": "stdout",
     "output_type": "stream",
     "text": [
      "2233 out of 4710 papers (or 47.41% of papers) are publicly available on their publisher's website\n"
     ]
    }
   ],
   "source": [
    "#investigate \"Publicly Accessible On Publusher Site\" column\n",
    "npub_site = pubs_2023[\"Publicly Accessible On Publisher Site\"].count()\n",
    "\n",
    "print(\"{frac} out of {total} papers (or {percent}% of papers) are publicly available on their publisher's website\".format(frac = npub_site, total=total, percent=round(100*(npub_site/total),2)))"
   ]
  },
  {
   "cell_type": "code",
   "execution_count": 10,
   "id": "3c0d3b83",
   "metadata": {
    "scrolled": true
   },
   "outputs": [
    {
     "data": {
      "text/html": [
       "<div>\n",
       "<style scoped>\n",
       "    .dataframe tbody tr th:only-of-type {\n",
       "        vertical-align: middle;\n",
       "    }\n",
       "\n",
       "    .dataframe tbody tr th {\n",
       "        vertical-align: top;\n",
       "    }\n",
       "\n",
       "    .dataframe thead th {\n",
       "        text-align: right;\n",
       "    }\n",
       "</style>\n",
       "<table border=\"1\" class=\"dataframe\">\n",
       "  <thead>\n",
       "    <tr style=\"text-align: right;\">\n",
       "      <th></th>\n",
       "      <th>Status</th>\n",
       "      <th>Count</th>\n",
       "    </tr>\n",
       "  </thead>\n",
       "  <tbody>\n",
       "    <tr>\n",
       "      <th>0</th>\n",
       "      <td>Verified OA</td>\n",
       "      <td>2266</td>\n",
       "    </tr>\n",
       "    <tr>\n",
       "      <th>1</th>\n",
       "      <td>Not verified OA</td>\n",
       "      <td>1659</td>\n",
       "    </tr>\n",
       "    <tr>\n",
       "      <th>2</th>\n",
       "      <td>Unknown status</td>\n",
       "      <td>785</td>\n",
       "    </tr>\n",
       "  </tbody>\n",
       "</table>\n",
       "</div>"
      ],
      "text/plain": [
       "            Status  Count\n",
       "0      Verified OA   2266\n",
       "1  Not verified OA   1659\n",
       "2   Unknown status    785"
      ]
     },
     "execution_count": 10,
     "metadata": {},
     "output_type": "execute_result"
    }
   ],
   "source": [
    "#investigate \"CHORUS Verified OA\" column\n",
    "unknown = (pubs_2023[\"CHORUS Verified OA\"] == \"Unknown\").sum()\n",
    "yes = (pubs_2023[\"CHORUS Verified OA\"] == \"Yes\").sum()\n",
    "no = (pubs_2023[\"CHORUS Verified OA\"] == \"No\").sum()\n",
    "\n",
    "        \n",
    "data = [[\"Verified OA\", yes], [\"Not verified OA\", no], [\"Unknown status\", unknown]]\n",
    "df = pd.DataFrame(data, columns=['Status', 'Count'])\n",
    "df"
   ]
  },
  {
   "cell_type": "code",
   "execution_count": 11,
   "id": "4cdea2e7",
   "metadata": {},
   "outputs": [
    {
     "data": {
      "image/png": "[encoded data removed]",
      "text/plain": [
       "<Figure size 640x480 with 1 Axes>"
      ]
     },
     "metadata": {},
     "output_type": "display_data"
    }
   ],
   "source": [
    "#calculate percents off of the above df and make a little plot for funsies\n",
    "unk_percent = round(100*unknown/total,1)\n",
    "yes_percent = round(100*yes/total,1)\n",
    "no_percent = round(100*no/total,1)\n",
    "\n",
    "plt.title(\"2023 NASA-funded publications verified as open-access by CHORUS\")\n",
    "plt.bar_label(plt.bar(df[\"Status\"], df[\"Count\"], color=['#FFC107', '#D81B60', '#99BADD']),[f\"{yes_percent}%\", f\"{no_percent}%\", f\"{unk_percent}%\"])\n",
    "#plt.show()\n",
    "plt.savefig(\"openaccess_chorus.jpg\")"
   ]
  },
  {
   "cell_type": "markdown",
   "id": "396b9ac5",
   "metadata": {},
   "source": [
    "## Read in SciX data"
   ]
  },
  {
   "cell_type": "markdown",
   "id": "ca08ba6f-9876-4bb3-886a-e47d50183797",
   "metadata": {},
   "source": [
    "This file was created based on a query for 2023 NASA publications from https://scixplorer.org.  It is a composite file made from multiple downloads from the service.  \n",
    "\n",
    "The SciX query used was: full:\"supported by NASA\" year:\"2023\" property:\"open access\" property:refereed."
   ]
  },
  {
   "cell_type": "code",
   "execution_count": 12,
   "id": "5c43eac3",
   "metadata": {
    "scrolled": true
   },
   "outputs": [],
   "source": [
    "scix = pd.read_csv(\"all_scix.csv\")"
   ]
  },
  {
   "cell_type": "code",
   "execution_count": 13,
   "id": "9e835f50-5355-424f-8a45-14ef99898242",
   "metadata": {},
   "outputs": [
    {
     "data": {
      "text/plain": [
       "3875"
      ]
     },
     "execution_count": 13,
     "metadata": {},
     "output_type": "execute_result"
    }
   ],
   "source": [
    "len(scix)"
   ]
  },
  {
   "cell_type": "code",
   "execution_count": 14,
   "id": "f23a4bbd-777f-4fab-92e4-f10b706d2f18",
   "metadata": {},
   "outputs": [],
   "source": [
    "intersection = pd.merge(pubs_2023, scix, on=['DOI', 'DOI'], how='outer', indicator=True)\n"
   ]
  },
  {
   "cell_type": "code",
   "execution_count": 15,
   "id": "5a8d2145-723a-4546-868a-c1ea46bad790",
   "metadata": {},
   "outputs": [
    {
     "data": {
      "text/plain": [
       "7223"
      ]
     },
     "execution_count": 15,
     "metadata": {},
     "output_type": "execute_result"
    }
   ],
   "source": [
    "len(intersection)"
   ]
  },
  {
   "cell_type": "code",
   "execution_count": 16,
   "id": "d49904db-4bfd-45db-b136-61c631c16585",
   "metadata": {},
   "outputs": [
    {
     "data": {
      "text/plain": [
       "['left_only', 'right_only', 'both']\n",
       "Categories (3, object): ['left_only', 'right_only', 'both']"
      ]
     },
     "execution_count": 16,
     "metadata": {},
     "output_type": "execute_result"
    }
   ],
   "source": [
    "intersection[\"_merge\"].unique()"
   ]
  },
  {
   "cell_type": "code",
   "execution_count": 17,
   "id": "88260e1b-740f-4616-9483-fa6b5dbf80ab",
   "metadata": {},
   "outputs": [
    {
     "name": "stdout",
     "output_type": "stream",
     "text": [
      "left_only 3348\n",
      "right_only 2513\n",
      "both 1362\n"
     ]
    }
   ],
   "source": [
    "for x in intersection[\"_merge\"].unique(): \n",
    "    print(x, (intersection[\"_merge\"]==x).sum())\n"
   ]
  },
  {
   "cell_type": "code",
   "execution_count": null,
   "id": "42203878-401a-4439-af70-76f5b57699dd",
   "metadata": {},
   "outputs": [],
   "source": []
  },
  {
   "cell_type": "code",
   "execution_count": null,
   "id": "751f02f6-83ef-4494-b8e4-dc21b9c14ced",
   "metadata": {},
   "outputs": [],
   "source": []
  },
  {
   "cell_type": "code",
   "execution_count": null,
   "id": "1c49fab4-1845-4b74-90fb-e62a67a02bae",
   "metadata": {},
   "outputs": [],
   "source": []
  }
 ],
 "metadata": {
  "kernelspec": {
   "display_name": "Python 3 (ipykernel)",
   "language": "python",
   "name": "python3"
  },
  "language_info": {
   "codemirror_mode": {
    "name": "ipython",
    "version": 3
   },
   "file_extension": ".py",
   "mimetype": "text/x-python",
   "name": "python",
   "nbconvert_exporter": "python",
   "pygments_lexer": "ipython3",
   "version": "3.12.5"
  }
 },
 "nbformat": 4,
 "nbformat_minor": 5
}
